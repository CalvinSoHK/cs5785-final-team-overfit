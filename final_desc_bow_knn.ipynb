{
 "cells": [
  {
   "cell_type": "code",
   "execution_count": 1,
   "metadata": {},
   "outputs": [],
   "source": [
    "# Functions for removing noise and garbage of the data\n",
    "import numpy as np\n",
    "import nltk\n",
    "from nltk.corpus import stopwords\n",
    "from nltk.tokenize import word_tokenize\n",
    "from nltk.stem import WordNetLemmatizer\n",
    "from string import punctuation\n",
    "\n",
    "# Number of train/test files\n",
    "num_train_file = 10000\n",
    "num_test_file = 2000\n",
    "\n",
    "def strip_punctuation(data):\n",
    "    for i in range(len(data)):\n",
    "        data[i]=''.join([letter for letter in data[i] if letter not in punctuation])\n",
    "    return data\n",
    "\n",
    "def lowercase(data):\n",
    "    return [x.lower() for x in data]\n",
    "\n",
    "stop_words = set(stopwords.words('english'))\n",
    "def strip_stop_words(data):\n",
    "    for i in range(len(data)):\n",
    "        word_tokens = word_tokenize(data[i])\n",
    "        filtered_sentence = []\n",
    "        for word in word_tokens:\n",
    "            if word not in stop_words:\n",
    "                filtered_sentence.append(word)\n",
    "        data[i] = \" \".join(filtered_sentence)\n",
    "    return data\n",
    "\n",
    "def lemmatizer(data):\n",
    "    lemmatizer = WordNetLemmatizer()\n",
    "    for i in range(len(data)):\n",
    "        word_list = data[i].split(' ')\n",
    "        temp = []\n",
    "        for word in word_list:\n",
    "            temp.append(lemmatizer.lemmatize(word, 'v'))\n",
    "        data[i] = \" \".join(temp)\n",
    "    return data"
   ]
  },
  {
   "cell_type": "code",
   "execution_count": 2,
   "metadata": {
    "scrolled": true
   },
   "outputs": [],
   "source": [
    "def generate_unique_words_dict(desc_train_path):\n",
    "    \n",
    "    unique_words_dict = []\n",
    "    for i in range(num_train_file):\n",
    "        filename = desc_train_path + str(i) +'.txt'\n",
    "        \n",
    "        # Read files.\n",
    "        file = open(filename, \"r\")\n",
    "        contents = [line.rstrip(\"\\n\") for line in file]\n",
    "        \n",
    "        # Lowercase all of the words.\n",
    "        contents = lowercase(contents)\n",
    "        \n",
    "        # Strip punctuation\n",
    "        contents = strip_punctuation(contents)\n",
    "        \n",
    "        # Strip the stop words\n",
    "        contents = strip_stop_words(contents)\n",
    "        \n",
    "        # Lemmatization of all the words\n",
    "        contents = lemmatizer(contents)\n",
    "        \n",
    "        for content in contents:\n",
    "            words = content.split()\n",
    "            for word in words:\n",
    "                unique_words_dict.append(word)\n",
    "    \n",
    "    return list(set(unique_words_dict))\n",
    "        \n",
    "unique_words_dict = generate_unique_words_dict('./data/descriptions_train/')"
   ]
  },
  {
   "cell_type": "code",
   "execution_count": 3,
   "metadata": {
    "scrolled": true
   },
   "outputs": [
    {
     "name": "stdout",
     "output_type": "stream",
     "text": [
      "Progress: 0/10000\n",
      "Progress: 1000/10000\n",
      "Progress: 2000/10000\n",
      "Progress: 3000/10000\n",
      "Progress: 4000/10000\n",
      "Progress: 5000/10000\n",
      "Progress: 6000/10000\n",
      "Progress: 7000/10000\n",
      "Progress: 8000/10000\n",
      "Progress: 9000/10000\n",
      "Progress: 0/2000\n",
      "Progress: 1000/2000\n"
     ]
    }
   ],
   "source": [
    "def generate_bag_of_words(file_path, num_file):\n",
    "    bag_of_words = {}\n",
    "    count = 0\n",
    "    for i in range(num_file):\n",
    "        filename = file_path + str(i) +'.txt'\n",
    "        \n",
    "        # Read files.\n",
    "        file = open(filename, \"r\")\n",
    "        contents = [line.rstrip(\"\\n\") for line in file]        \n",
    "        \n",
    "        # Create a list with contents\n",
    "        temp = ''\n",
    "        for content in contents:\n",
    "            temp += ' ' + content\n",
    "        contents = [temp]\n",
    "    \n",
    "        # Lowercase all of the words.\n",
    "        contents = lowercase(contents)\n",
    "        \n",
    "        # Strip punctuation\n",
    "        contents = strip_punctuation(contents)\n",
    "        \n",
    "        # Strip the stop words\n",
    "        contents = strip_stop_words(contents)\n",
    "        \n",
    "        # Lemmatization of all the words\n",
    "        contents = lemmatizer(contents)\n",
    "        \n",
    "        for content in contents:\n",
    "            words = content.split()\n",
    "            counts = []\n",
    "            for word in unique_words_dict:\n",
    "                counts.append(words.count(word))\n",
    "            \n",
    "            new_file_name = filename.split('/')[-1]\n",
    "            bag_of_words[new_file_name] = counts\n",
    "            \n",
    "        if count % 1000 == 0:\n",
    "            print('Progress: ' + str(count) + '/' + str(num_file))\n",
    "        count += 1\n",
    "            \n",
    "    return bag_of_words\n",
    "        \n",
    "training_bag_of_words = generate_bag_of_words('./data/descriptions_train/', num_train_file)\n",
    "test_bag_of_words = generate_bag_of_words('./data/descriptions_test/', num_test_file)"
   ]
  },
  {
   "cell_type": "code",
   "execution_count": 4,
   "metadata": {},
   "outputs": [],
   "source": [
    "# Read train/test features.\n",
    "train_features = []\n",
    "test_features = []\n",
    "\n",
    "train_feature_file = open(\"./data/features_train/features_resnet1000_train.csv\", \"r\")\n",
    "train_features = np.array([line.split(\",\") for line in train_feature_file])\n",
    "\n",
    "test_feature_file = open(\"./data/features_test/features_resnet1000_test.csv\", \"r\")\n",
    "test_features = np.array([line.split(\",\") for line in test_feature_file])"
   ]
  },
  {
   "cell_type": "code",
   "execution_count": 5,
   "metadata": {},
   "outputs": [
    {
     "data": {
      "text/plain": [
       "KNeighborsClassifier(algorithm='auto', leaf_size=30, metric='minkowski',\n",
       "           metric_params=None, n_jobs=1, n_neighbors=1, p=2,\n",
       "           weights='uniform')"
      ]
     },
     "execution_count": 5,
     "metadata": {},
     "output_type": "execute_result"
    }
   ],
   "source": [
    "# Create knn model for training descriptions\n",
    "from sklearn.neighbors import KNeighborsClassifier\n",
    "\n",
    "knn_classifier = KNeighborsClassifier(n_neighbors=1)\n",
    "X, y = [], []\n",
    "for filename in training_bag_of_words:\n",
    "    X.append(training_bag_of_words[filename])\n",
    "    y.append(filename)\n",
    "\n",
    "X = np.array(X)\n",
    "y = np.array(y)\n",
    "knn_classifier.fit(X, y)\n",
    "\n",
    "# def process_knn(desc_test_file):\n",
    "\n",
    "#     knn_classifier = KNeighborsClassifier(n_neighbors=1)\n",
    "#     X, y = [], []\n",
    "#     for filename in training_bag_of_words:\n",
    "#         X.append(training_bag_of_words[filename])\n",
    "#         y.append(filename)\n",
    "\n",
    "#     X = np.array(X)\n",
    "#     y = np.array(y)\n",
    "#     knn_classifier.fit(X, y)\n",
    "    \n",
    "#     bag_of_word = np.array(test_bag_of_words[desc_test_file])\n",
    "#     train_file_name = knn_classifier.predict(bag_of_word.reshape(1, -1))\n",
    "    \n",
    "#     return train_file_name[0]"
   ]
  },
  {
   "cell_type": "code",
   "execution_count": 6,
   "metadata": {
    "scrolled": true
   },
   "outputs": [],
   "source": [
    "# Create train feature dictionary\n",
    "train_feature_dict = {}\n",
    "for i  in range(len(train_features)):\n",
    "    file_name = train_features[i][0] # 'images_train/5373.jpg'\n",
    "    file_name = file_name.split('/')[1].split('.')[0] # 5373\n",
    "    train_feature_dict[file_name] = np.array(train_features[i][1:])\n",
    "\n",
    "# def get_train_feature(train_file_name):\n",
    "    \n",
    "#     train_file_name = train_file_name.split('.')[0]\n",
    "    \n",
    "#     # Return train feature with train file name\n",
    "#     return train_feature_dict[train_file_name]"
   ]
  },
  {
   "cell_type": "code",
   "execution_count": 7,
   "metadata": {},
   "outputs": [],
   "source": [
    "# reference: https://stackoverflow.com/questions/1401712/how-can-the-euclidean-distance-be-calculated-with-numpy\n",
    "def get_euclidean_distance(a, b):\n",
    "    a = np.array(a, dtype=float)\n",
    "    b = np.array(b, dtype=float)\n",
    "    return np.linalg.norm(a - b)"
   ]
  },
  {
   "cell_type": "code",
   "execution_count": 8,
   "metadata": {},
   "outputs": [],
   "source": [
    "# reference: https://stackoverflow.com/questions/613183/how-do-i-sort-a-dictionary-by-value\n",
    "import operator\n",
    "\n",
    "def get_top_20_images(desc_test_file):    \n",
    "    bag_of_word = np.array(test_bag_of_words[desc_test_file])\n",
    "    train_file_name = knn_classifier.predict(bag_of_word.reshape(1, -1)) # ['1234.jpg']\n",
    "#     train_file_name = process_knn(desc_test_file)\n",
    "    selected_train_feature = train_feature_dict[train_file_name[0].split('.')[0]]\n",
    "#     selected_train_feature = get_train_feature(train_file_name)\n",
    "    \n",
    "    feature_dist = {}\n",
    "    for test_feature in test_features:\n",
    "        test_file_name = test_feature[0].split(\"/\")[1]\n",
    "        dist = get_euclidean_distance(selected_train_feature, test_feature[1:])\n",
    "        feature_dist[test_file_name] = dist\n",
    "    sorted_feature_dist = sorted(feature_dist.items(), key=operator.itemgetter(1))\n",
    "    top_20 = []\n",
    "    for i in range(20):\n",
    "        top_20.append(sorted_feature_dist[i][0])\n",
    "\n",
    "    return np.array(top_20)\n",
    "\n",
    "# top_20 = get_top_20_images(\"5.txt\")\n",
    "# print(top_20)"
   ]
  },
  {
   "cell_type": "code",
   "execution_count": 9,
   "metadata": {
    "scrolled": true
   },
   "outputs": [],
   "source": [
    "# Reference: https://stackoverflow.com/questions/42812230/why-plt-imshow-doesnt-display-the-image\n",
    "import matplotlib.pyplot as plt\n",
    "from PIL import Image\n",
    "\n",
    "def display_top_20():\n",
    "    for image_name in top_20:\n",
    "        image = Image.open('./data/images_test/' + image_name, 'r')\n",
    "        plt.imshow(np.asarray(image))\n",
    "        plt.show()\n",
    "        \n",
    "# display_top_20()"
   ]
  },
  {
   "cell_type": "code",
   "execution_count": 10,
   "metadata": {
    "scrolled": false
   },
   "outputs": [
    {
     "name": "stdout",
     "output_type": "stream",
     "text": [
      "Progress: 0/2000\n",
      "Progress: 50/2000\n",
      "Progress: 100/2000\n",
      "Progress: 150/2000\n",
      "Progress: 200/2000\n",
      "Progress: 250/2000\n",
      "Progress: 300/2000\n",
      "Progress: 350/2000\n",
      "Progress: 400/2000\n",
      "Progress: 450/2000\n",
      "Progress: 500/2000\n",
      "Progress: 550/2000\n",
      "Progress: 600/2000\n",
      "Progress: 650/2000\n",
      "Progress: 700/2000\n",
      "Progress: 750/2000\n",
      "Progress: 800/2000\n",
      "Progress: 850/2000\n",
      "Progress: 900/2000\n",
      "Progress: 950/2000\n",
      "Progress: 1000/2000\n",
      "Progress: 1050/2000\n",
      "Progress: 1100/2000\n",
      "Progress: 1150/2000\n",
      "Progress: 1200/2000\n",
      "Progress: 1250/2000\n",
      "Progress: 1300/2000\n",
      "Progress: 1350/2000\n",
      "Progress: 1400/2000\n",
      "Progress: 1450/2000\n",
      "Progress: 1500/2000\n",
      "Progress: 1550/2000\n",
      "Progress: 1600/2000\n",
      "Progress: 1650/2000\n",
      "Progress: 1700/2000\n",
      "Progress: 1750/2000\n",
      "Progress: 1800/2000\n",
      "Progress: 1850/2000\n",
      "Progress: 1900/2000\n",
      "Progress: 1950/2000\n",
      "12317.41633439064 seconds\n"
     ]
    }
   ],
   "source": [
    "import time\n",
    "# dic = {\"John\": \"john@example.com\", \"Mary\": \"mary@example.com\"} #dictionary\n",
    "count = 0\n",
    "result_dic = {}\n",
    "start_time = time.time()\n",
    "\n",
    "for i in range(2000):\n",
    "    desc_test_name = str(i) + '.txt'\n",
    "    top_20_imgs = \" \".join(get_top_20_images(desc_test_name))\n",
    "    result_dic[desc_test_name] = top_20_imgs\n",
    "    \n",
    "    if count % 50 == 0:\n",
    "        print('Progress: ' + str(count) + '/' + str(2000))\n",
    "    count += 1\n",
    "    \n",
    "print(str(time.time() - start_time) + ' seconds')"
   ]
  },
  {
   "cell_type": "code",
   "execution_count": 46,
   "metadata": {
    "scrolled": false
   },
   "outputs": [],
   "source": [
    "# Reference: https://pythonspot.com/save-a-dictionary-to-a-file/\n",
    "import csv\n",
    "\n",
    "w = csv.writer(open(\"submission1.csv\", \"w\", newline=''))\n",
    "w.writerow([\"Descritpion_ID\", \"Top_20_Image_IDs\"])\n",
    "for key, val in result_dic.items():\n",
    "    w.writerow([key, val])\n",
    "    \n",
    "# # Reference: http://stanford.edu/~mgorkove/cgi-bin/rpython_tutorials/Writing_Data_to_a_CSV_With_Python.php\n",
    "# import csv\n",
    "\n",
    "# download_dir = \"submission.csv\" #where you want the file to be downloaded to \n",
    "# csv = open(download_dir, \"w\") #\"w\" indicates that you're writing strings to the file\n",
    "\n",
    "# columnTitleRow = \"Descritpion_ID,Top_20_Image_IDs\\n\"\n",
    "# csv.write(columnTitleRow)\n",
    "\n",
    "# for key in result_dic.keys():\n",
    "#     desc_id = key\n",
    "#     top_20_img_id = result_dic[key]\n",
    "#     row = desc_id + \",\" + top_20_img_id + \"\\n\"\n",
    "#     csv.write(row)"
   ]
  }
 ],
 "metadata": {
  "kernelspec": {
   "display_name": "Python 3",
   "language": "python",
   "name": "python3"
  },
  "language_info": {
   "codemirror_mode": {
    "name": "ipython",
    "version": 3
   },
   "file_extension": ".py",
   "mimetype": "text/x-python",
   "name": "python",
   "nbconvert_exporter": "python",
   "pygments_lexer": "ipython3",
   "version": "3.6.5"
  }
 },
 "nbformat": 4,
 "nbformat_minor": 2
}
